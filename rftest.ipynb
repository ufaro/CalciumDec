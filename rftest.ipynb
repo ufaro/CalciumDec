{
  "nbformat": 4,
  "nbformat_minor": 0,
  "metadata": {
    "colab": {
      "name": "Copie de STATEST.ipynb",
      "provenance": [],
      "collapsed_sections": [],
      "authorship_tag": "ABX9TyP+MFDttHL6rlmhYTNroE1C",
      "include_colab_link": true
    },
    "kernelspec": {
      "name": "python3",
      "display_name": "Python 3"
    },
    "language_info": {
      "name": "python"
    }
  },
  "cells": [
    {
      "cell_type": "markdown",
      "metadata": {
        "id": "view-in-github",
        "colab_type": "text"
      },
      "source": [
        "<a href=\"https://colab.research.google.com/github/ufaro/CalciumDec/blob/master/rftest.ipynb\" target=\"_parent\"><img src=\"https://colab.research.google.com/assets/colab-badge.svg\" alt=\"Open In Colab\"/></a>"
      ]
    },
    {
      "cell_type": "code",
      "metadata": {
        "colab": {
          "base_uri": "https://localhost:8080/"
        },
        "id": "sJKvACLWW2vg",
        "outputId": "c0142e71-dd3b-4087-899e-b9f05a69b1da"
      },
      "source": [
        "from google.colab import drive\n",
        "drive.mount(\"mnt\")"
      ],
      "execution_count": null,
      "outputs": [
        {
          "output_type": "stream",
          "text": [
            "Mounted at mnt\n"
          ],
          "name": "stdout"
        }
      ]
    },
    {
      "cell_type": "code",
      "metadata": {
        "colab": {
          "base_uri": "https://localhost:8080/"
        },
        "id": "ocULEAmMXC56",
        "outputId": "f8424321-d836-45e0-cb04-93f18fc74d2f"
      },
      "source": [
        "%cd \"mnt/My Drive/TEST_COLAB\""
      ],
      "execution_count": null,
      "outputs": [
        {
          "output_type": "stream",
          "text": [
            "/content/mnt/My Drive/TEST_COLAB\n"
          ],
          "name": "stdout"
        }
      ]
    },
    {
      "cell_type": "code",
      "metadata": {
        "id": "anr5tqp0XIrA"
      },
      "source": [
        "import numpy as np\n",
        "import os\n",
        "\n",
        "sp = np.load('spikes.npy')\n",
        "st = np.load('stimulus.npy')\n"
      ],
      "execution_count": null,
      "outputs": []
    },
    {
      "cell_type": "code",
      "metadata": {
        "id": "vuJgGrgGLBI0"
      },
      "source": [
        "st = st[:,:,1000:2000]\n",
        "\n",
        "sp = sp[1000:2000]\n"
      ],
      "execution_count": null,
      "outputs": []
    },
    {
      "cell_type": "code",
      "metadata": {
        "id": "SXj8Ghe_bYY0"
      },
      "source": [
        "sp_pos, = np.where(sp == 1)\n",
        "\n",
        "sp_pos = sp_pos[sp_pos >= 50] \n",
        "\n",
        "sta = np.zeros((len(sp_pos),20,20)) \n",
        "\n"
      ],
      "execution_count": null,
      "outputs": []
    },
    {
      "cell_type": "code",
      "metadata": {
        "id": "qYKGPim3jF2X"
      },
      "source": [
        "for i in range(len(sp_pos)):\n",
        "\n",
        "  sta[i,:,:] = np.mean(st[:,:,sp_pos[i] - 50 : sp_pos[i]], axis = 2) "
      ],
      "execution_count": null,
      "outputs": []
    },
    {
      "cell_type": "code",
      "metadata": {
        "id": "GbjyKenljQha"
      },
      "source": [
        "sta_mean =  np.mean(sta, axis = 0) "
      ],
      "execution_count": null,
      "outputs": []
    },
    {
      "cell_type": "code",
      "metadata": {
        "colab": {
          "base_uri": "https://localhost:8080/",
          "height": 265
        },
        "id": "ymPH931SlOyJ",
        "outputId": "745e20fc-47e1-48b0-a4f9-9dcd334a3326"
      },
      "source": [
        "import matplotlib.pyplot as plt\n",
        "import matplotlib.image as mpimg\n",
        "\n",
        "imgplot = plt.imshow(sta_mean)"
      ],
      "execution_count": null,
      "outputs": [
        {
          "output_type": "display_data",
          "data": {
            "image/png": "[encoded data removed]",
            "text/plain": [
              "<Figure size 432x288 with 1 Axes>"
            ]
          },
          "metadata": {
            "tags": [],
            "needs_background": "light"
          }
        }
      ]
    },
    {
      "cell_type": "code",
      "metadata": {
        "id": "LoW9eo4-y4sx"
      },
      "source": [
        "np.save(\"sta_mean\", sta_mean)\n"
      ],
      "execution_count": null,
      "outputs": []
    }
  ]
}